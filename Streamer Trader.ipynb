{
 "cells": [
  {
   "cell_type": "markdown",
   "metadata": {},
   "source": [
    "Paquetes"
   ]
  },
  {
   "cell_type": "code",
   "execution_count": 1,
   "metadata": {},
   "outputs": [],
   "source": [
    "import requests\n",
    "import configparser\n",
    "import pandas as pd\n",
    "import numpy as np\n",
    "import json\n",
    "import time as systime\n",
    "import ast"
   ]
  },
  {
   "cell_type": "markdown",
   "metadata": {},
   "source": [
    "Parametros de la cuenta (Demo)"
   ]
  },
  {
   "cell_type": "code",
   "execution_count": 2,
   "metadata": {},
   "outputs": [],
   "source": [
    "token = 'feda87f1f9a79663042fcd5ee82ab17c-22f342d828f6cfd14b6004a04fdb6283'\n",
    "account = '101-011-11815575-001'\n",
    "username = 'kgua0311'"
   ]
  },
  {
   "cell_type": "markdown",
   "metadata": {},
   "source": [
    "Parametros de conexion a la API"
   ]
  },
  {
   "cell_type": "code",
   "execution_count": 3,
   "metadata": {},
   "outputs": [],
   "source": [
    "header = {\"Content-Type\": \"application/json\", \"Authorization\": \"Bearer \" + token}\n",
    "pricing_url = 'https://api-fxpractice.oanda.com/v3/accounts/' + account + \"/pricing\"\n",
    "order_url = 'https://api-fxpractice.oanda.com/v3/accounts/' + account + \"/orders\"\n",
    "pricing_stream = 'https://stream-fxpractice.oanda.com/v3/accounts/' + account + \"/pricing/stream\"\n",
    "instruments_url = \"https://api-fxpractice.oanda.com/v3/accounts/\" + account + \"/instruments\""
   ]
  },
  {
   "cell_type": "markdown",
   "metadata": {},
   "source": [
    "Instrumentos"
   ]
  },
  {
   "cell_type": "code",
   "execution_count": 4,
   "metadata": {},
   "outputs": [],
   "source": [
    "Tickers = ['USD_CNH', 'MBTC_USD', 'XAU_CAD', 'SGD_HKD', 'SPX500_USD', 'EUR_HUF', 'AUD_NZD', 'CAD_JPY',\n",
    "           'EU50_EUR', 'USB10Y_USD', 'ZAR_JPY', 'EUR_AUD', 'DE30_EUR', 'XCU_USD', 'XAG_GBP', 'HKD_JPY',\n",
    "           'XAG_JPY', 'XAG_USD', 'USD_NOK', 'CAD_SGD', 'USD_CZK', 'GBP_NZD', 'XAG_NZD', 'FR40_EUR', \n",
    "           'EUR_DKK', 'USD_CAD', 'AUD_JPY', 'USD_HUF', 'EUR_CZK', 'AUD_HKD', 'CHF_ZAR', 'SUGAR_USD',\n",
    "           'EUR_HKD', 'AU200_AUD', 'NZD_USD', 'AUD_USD', 'SGD_JPY', 'AUD_CAD', 'WTICO_USD', 'DE10YB_EUR',\n",
    "           'CORN_USD', 'AUD_CHF', 'CN50_USD', 'NL25_EUR', 'BTC_USD', 'TWIX_USD', 'EUR_CHF', 'USB02Y_USD',\n",
    "           'SG30_SGD', 'EUR_NOK', 'AUD_SGD', 'USD_CHF', 'TRY_JPY', 'USD_THB', 'GBP_CHF', 'USD_PLN', 'GBP_AUD',\n",
    "           'EUR_SGD', 'CHF_JPY', 'USD_INR', 'EUR_SEK', 'USD_SGD', 'XAU_NZD', 'XAU_GBP', 'USD_DKK', 'XPT_USD',\n",
    "           'XAG_CHF', 'NZD_SGD', 'XAU_XAG', 'XAG_EUR', 'UK10YB_GBP', 'SOYBN_USD', 'GBP_ZAR', 'USD_HKD',\n",
    "           'XAU_USD', 'GBP_PLN', 'USD_JPY', 'EUR_TRY', 'NAS100_USD', 'EUR_ZAR', 'XAU_HKD', 'NZD_HKD',\n",
    "           'NZD_CHF', 'XAU_CHF', 'GBP_CAD', 'USD_SAR', 'XAU_JPY', 'NZD_CAD', 'EUR_JPY', 'NZD_JPY', 'EUR_NZD',\n",
    "           'WHEAT_USD', 'XAU_AUD', 'US30_USD', 'XAU_EUR', 'UK100_GBP', 'EUR_GBP', 'USD_SEK', 'GBP_SGD',\n",
    "           'US2000_USD', 'USB05Y_USD', 'USD_ZAR', 'NATGAS_USD', 'CHF_HKD', 'XPD_USD', 'GBP_HKD', 'EUR_PLN',\n",
    "           'BCO_USD', 'XAG_AUD', 'JP225_USD', 'XAG_HKD', 'EUR_USD', 'XAG_SGD', 'XAU_SGD', 'IN50_USD',\n",
    "           'USD_TRY', 'GBP_JPY', 'EUR_CAD', 'HK33_HKD', 'XAG_CAD', 'USD_MXN', 'GBP_USD', 'SGD_CHF', \n",
    "           'CAD_CHF', 'CAD_HKD', 'USB30Y_USD']\n",
    "\n",
    "# Control para determinar si hacer stream de un solo activo o varios\n",
    "multiple = True\n",
    "\n",
    "if multiple:\n",
    "    Tickers_stream = ','.join(Tickers)\n",
    "else:\n",
    "    Tickers_stream = 'USD_JPY' # Tomar uno en especifico"
   ]
  },
  {
   "cell_type": "code",
   "execution_count": 5,
   "metadata": {},
   "outputs": [],
   "source": [
    "def get_current_price(epic_id):\n",
    "    pars = {\"instruments\": epic_id}\n",
    "    session = requests.Session()  # create a session\n",
    "    ob_req = requests.Request(\"GET\", pricing_url, headers=header, params=pars)\n",
    "    ob_pre = ob_req.prepare()\n",
    "    resp = session.send(ob_pre)\n",
    "    session.close()\n",
    "    if resp.ok:  # If this is \"OK\" means that the sending and receiving was succesful\n",
    "        # Extracting information from the json output\n",
    "        dict_response = resp.json()\n",
    "        res = {'Instrument': epic_id}\n",
    "        res['values'] = {}\n",
    "        res['values']['BID'] = dict_response[\"prices\"][0][\"bids\"][0][\"price\"]\n",
    "        res['values']['OFFER'] = dict_response[\"prices\"][0][\"asks\"][0][\"price\"]\n",
    "    return res"
   ]
  },
  {
   "cell_type": "code",
   "execution_count": 6,
   "metadata": {},
   "outputs": [],
   "source": [
    "def placeOrder(epic_id, units = None, order_type = 'LIMIT', price = None):\n",
    "    \"\"\"\n",
    "    Function to place orders in OANDA.\n",
    "    :param epic_id: Ticker of the instrument\n",
    "    :param order_type: one of the following as strings\n",
    "                - MARKET\n",
    "                - LIMIT\n",
    "    :param units: integer of the number of units to buy, negative if selling\n",
    "    :param price: target price, only for LIMIT, STOP_LOSS, TAKE_PROFIT orders\n",
    "    \"\"\"\n",
    "    \n",
    "    if units > 0:\n",
    "        price = float(get_current_price('EUR_USD')['values']['OFFER'])\n",
    "    else:\n",
    "        price = float(get_current_price('EUR_USD')['values']['BID'])\n",
    "\n",
    "    if order_type is None:\n",
    "        print('No type order given. Please specify the order type.')\n",
    "        return None\n",
    "\n",
    "    if order_type == \"MARKET\":\n",
    "        params = {\"order\": {\"timeInForce\": \"GTC\",\n",
    "                            \"instrument\": epic_id,\n",
    "                            \"units\": str(units),\n",
    "                            \"type\": order_type,\n",
    "                            \"positionFill\": \"DEFAULT\"}}\n",
    "\n",
    "    if order_type == \"LIMIT\":\n",
    "        params = {\"order\": {\"price\": str(price),\n",
    "                            \"timeInForce\": \"GTC\",\n",
    "                            \"instrument\": epic_id,\n",
    "                            \"units\": str(units),\n",
    "                            \"type\": order_type,\n",
    "                            \"positionFill\": \"DEFAULT\"}}\n",
    "\n",
    "    params = json.dumps(params)\n",
    "    session = requests.Session()\n",
    "    req = requests.Request(\"POST\", order_url, headers = header, data = params)\n",
    "    pre = req.prepare()\n",
    "    resp = session.send(pre)\n",
    "    session.close()\n",
    "    print(resp.reason)\n",
    "    ins = resp.json()\n",
    "    print(ins)"
   ]
  },
  {
   "cell_type": "code",
   "execution_count": 7,
   "metadata": {},
   "outputs": [],
   "source": [
    "def get_signal(Hist_Data, power = 0.75, Threshold_ranges = [-0.2, 0.5]):\n",
    "    time_window = Hist_Data.shape[0] # It identifies the time window for past data you're using\n",
    "    n = time_window**power # this is one of the parameters of the algoritm\n",
    "    \n",
    "    High_shift = Hist_Data['high'].shift(1) # For the current candel, I consider the last 9 candels for calculations in the High\n",
    "    Low_shift = Hist_Data['low'].shift(1) # Same for the Low\n",
    "    TR1 = High_shift-Low_shift # Calculate the first value of reference as an array\n",
    "    TR2 = np.abs(High_shift - Hist_Data['close']) # Calculate the second value of reference as an array\n",
    "    TR3 = np.abs(Low_shift-Hist_Data['close']) # Calculate the third value of reference as an array\n",
    "    TR = pd.concat([TR1,TR2,TR3], axis = 1) # join them into a dataframe\n",
    "    TR = [max(TR.iloc[i,:]) for i in range(TR.shape[0])] # For each row, take the maximum value\n",
    "    Avr_TR = np.nanmean(TR) # calculate the mean of TR\n",
    "    High_Range = Hist_Data['high'] - Hist_Data['low'].min() # Get the difference between the current High and the past min Low\n",
    "    Low_Range = Hist_Data['low'] - Hist_Data['high'].max() # Get the difference between the current Low and the past max High\n",
    "    NHR = High_Range/n/Avr_TR\n",
    "    NHR = NHR.values[-1] # Extracts the current value of the indicator for the High\n",
    "    NLR = Low_Range/n/Avr_TR\n",
    "    NLR = NLR.values[-1] # Extracts the current value of the indicator for the Low\n",
    "    \n",
    "    # Defines the value of the signal according to the trading rule\n",
    "    if (NHR > Threshold_ranges[1] and NLR < Threshold_ranges[0]):\n",
    "        signal = 1\n",
    "    elif (NLR > Threshold_ranges[0] and NHR < Threshold_ranges[1]):\n",
    "        signal = -1\n",
    "    else:\n",
    "        signal = 0\n",
    "\n",
    "    return(signal)"
   ]
  },
  {
   "cell_type": "code",
   "execution_count": 8,
   "metadata": {},
   "outputs": [],
   "source": [
    "def mapper(df):\n",
    "    signal = []\n",
    "    for inst in df['inst'].unique().tolist():\n",
    "        dfaux = df.loc[df['inst']==inst,:].drop(['hora', 'inst'], axis = 1)\n",
    "        signal.append((inst, get_signal(dfaux)))\n",
    "    return [x for x in signal if x[1] != 0]"
   ]
  },
  {
   "cell_type": "code",
   "execution_count": 9,
   "metadata": {},
   "outputs": [
    {
     "name": "stdout",
     "output_type": "stream",
     "text": [
      "OK\n"
     ]
    },
    {
     "ename": "KeyboardInterrupt",
     "evalue": "",
     "output_type": "error",
     "traceback": [
      "\u001b[1;31m---------------------------------------------------------------------------\u001b[0m",
      "\u001b[1;31mKeyboardInterrupt\u001b[0m                         Traceback (most recent call last)",
      "\u001b[1;32m<ipython-input-9-8cce67738015>\u001b[0m in \u001b[0;36m<module>\u001b[1;34m\u001b[0m\n\u001b[0;32m     10\u001b[0m \u001b[0mdicf_bkt\u001b[0m \u001b[1;33m=\u001b[0m \u001b[1;33m{\u001b[0m\u001b[1;34m'inst'\u001b[0m\u001b[1;33m:\u001b[0m\u001b[0mdict\u001b[0m\u001b[1;33m(\u001b[0m\u001b[1;33m)\u001b[0m\u001b[1;33m}\u001b[0m\u001b[1;33m\u001b[0m\u001b[1;33m\u001b[0m\u001b[0m\n\u001b[0;32m     11\u001b[0m \u001b[1;33m\u001b[0m\u001b[0m\n\u001b[1;32m---> 12\u001b[1;33m \u001b[1;32mfor\u001b[0m \u001b[0mi\u001b[0m \u001b[1;32min\u001b[0m \u001b[0mresp\u001b[0m\u001b[1;33m.\u001b[0m\u001b[0miter_lines\u001b[0m\u001b[1;33m(\u001b[0m\u001b[1;36m1\u001b[0m\u001b[1;33m)\u001b[0m\u001b[1;33m:\u001b[0m\u001b[1;33m\u001b[0m\u001b[1;33m\u001b[0m\u001b[0m\n\u001b[0m\u001b[0;32m     13\u001b[0m \u001b[1;33m\u001b[0m\u001b[0m\n\u001b[0;32m     14\u001b[0m     \u001b[0mj\u001b[0m \u001b[1;33m=\u001b[0m \u001b[0mi\u001b[0m\u001b[1;33m.\u001b[0m\u001b[0mdecode\u001b[0m\u001b[1;33m(\u001b[0m\u001b[1;33m)\u001b[0m\u001b[1;33m\u001b[0m\u001b[1;33m\u001b[0m\u001b[0m\n",
      "\u001b[1;32mC:\\Anaconda3\\lib\\site-packages\\requests\\models.py\u001b[0m in \u001b[0;36miter_lines\u001b[1;34m(self, chunk_size, decode_unicode, delimiter)\u001b[0m\n\u001b[0;32m    792\u001b[0m         \u001b[0mpending\u001b[0m \u001b[1;33m=\u001b[0m \u001b[1;32mNone\u001b[0m\u001b[1;33m\u001b[0m\u001b[1;33m\u001b[0m\u001b[0m\n\u001b[0;32m    793\u001b[0m \u001b[1;33m\u001b[0m\u001b[0m\n\u001b[1;32m--> 794\u001b[1;33m         \u001b[1;32mfor\u001b[0m \u001b[0mchunk\u001b[0m \u001b[1;32min\u001b[0m \u001b[0mself\u001b[0m\u001b[1;33m.\u001b[0m\u001b[0miter_content\u001b[0m\u001b[1;33m(\u001b[0m\u001b[0mchunk_size\u001b[0m\u001b[1;33m=\u001b[0m\u001b[0mchunk_size\u001b[0m\u001b[1;33m,\u001b[0m \u001b[0mdecode_unicode\u001b[0m\u001b[1;33m=\u001b[0m\u001b[0mdecode_unicode\u001b[0m\u001b[1;33m)\u001b[0m\u001b[1;33m:\u001b[0m\u001b[1;33m\u001b[0m\u001b[1;33m\u001b[0m\u001b[0m\n\u001b[0m\u001b[0;32m    795\u001b[0m \u001b[1;33m\u001b[0m\u001b[0m\n\u001b[0;32m    796\u001b[0m             \u001b[1;32mif\u001b[0m \u001b[0mpending\u001b[0m \u001b[1;32mis\u001b[0m \u001b[1;32mnot\u001b[0m \u001b[1;32mNone\u001b[0m\u001b[1;33m:\u001b[0m\u001b[1;33m\u001b[0m\u001b[1;33m\u001b[0m\u001b[0m\n",
      "\u001b[1;32mC:\\Anaconda3\\lib\\site-packages\\requests\\models.py\u001b[0m in \u001b[0;36mgenerate\u001b[1;34m()\u001b[0m\n\u001b[0;32m    748\u001b[0m             \u001b[1;32mif\u001b[0m \u001b[0mhasattr\u001b[0m\u001b[1;33m(\u001b[0m\u001b[0mself\u001b[0m\u001b[1;33m.\u001b[0m\u001b[0mraw\u001b[0m\u001b[1;33m,\u001b[0m \u001b[1;34m'stream'\u001b[0m\u001b[1;33m)\u001b[0m\u001b[1;33m:\u001b[0m\u001b[1;33m\u001b[0m\u001b[1;33m\u001b[0m\u001b[0m\n\u001b[0;32m    749\u001b[0m                 \u001b[1;32mtry\u001b[0m\u001b[1;33m:\u001b[0m\u001b[1;33m\u001b[0m\u001b[1;33m\u001b[0m\u001b[0m\n\u001b[1;32m--> 750\u001b[1;33m                     \u001b[1;32mfor\u001b[0m \u001b[0mchunk\u001b[0m \u001b[1;32min\u001b[0m \u001b[0mself\u001b[0m\u001b[1;33m.\u001b[0m\u001b[0mraw\u001b[0m\u001b[1;33m.\u001b[0m\u001b[0mstream\u001b[0m\u001b[1;33m(\u001b[0m\u001b[0mchunk_size\u001b[0m\u001b[1;33m,\u001b[0m \u001b[0mdecode_content\u001b[0m\u001b[1;33m=\u001b[0m\u001b[1;32mTrue\u001b[0m\u001b[1;33m)\u001b[0m\u001b[1;33m:\u001b[0m\u001b[1;33m\u001b[0m\u001b[1;33m\u001b[0m\u001b[0m\n\u001b[0m\u001b[0;32m    751\u001b[0m                         \u001b[1;32myield\u001b[0m \u001b[0mchunk\u001b[0m\u001b[1;33m\u001b[0m\u001b[1;33m\u001b[0m\u001b[0m\n\u001b[0;32m    752\u001b[0m                 \u001b[1;32mexcept\u001b[0m \u001b[0mProtocolError\u001b[0m \u001b[1;32mas\u001b[0m \u001b[0me\u001b[0m\u001b[1;33m:\u001b[0m\u001b[1;33m\u001b[0m\u001b[1;33m\u001b[0m\u001b[0m\n",
      "\u001b[1;32mC:\\Anaconda3\\lib\\site-packages\\urllib3\\response.py\u001b[0m in \u001b[0;36mstream\u001b[1;34m(self, amt, decode_content)\u001b[0m\n\u001b[0;32m    488\u001b[0m         \"\"\"\n\u001b[0;32m    489\u001b[0m         \u001b[1;32mif\u001b[0m \u001b[0mself\u001b[0m\u001b[1;33m.\u001b[0m\u001b[0mchunked\u001b[0m \u001b[1;32mand\u001b[0m \u001b[0mself\u001b[0m\u001b[1;33m.\u001b[0m\u001b[0msupports_chunked_reads\u001b[0m\u001b[1;33m(\u001b[0m\u001b[1;33m)\u001b[0m\u001b[1;33m:\u001b[0m\u001b[1;33m\u001b[0m\u001b[1;33m\u001b[0m\u001b[0m\n\u001b[1;32m--> 490\u001b[1;33m             \u001b[1;32mfor\u001b[0m \u001b[0mline\u001b[0m \u001b[1;32min\u001b[0m \u001b[0mself\u001b[0m\u001b[1;33m.\u001b[0m\u001b[0mread_chunked\u001b[0m\u001b[1;33m(\u001b[0m\u001b[0mamt\u001b[0m\u001b[1;33m,\u001b[0m \u001b[0mdecode_content\u001b[0m\u001b[1;33m=\u001b[0m\u001b[0mdecode_content\u001b[0m\u001b[1;33m)\u001b[0m\u001b[1;33m:\u001b[0m\u001b[1;33m\u001b[0m\u001b[1;33m\u001b[0m\u001b[0m\n\u001b[0m\u001b[0;32m    491\u001b[0m                 \u001b[1;32myield\u001b[0m \u001b[0mline\u001b[0m\u001b[1;33m\u001b[0m\u001b[1;33m\u001b[0m\u001b[0m\n\u001b[0;32m    492\u001b[0m         \u001b[1;32melse\u001b[0m\u001b[1;33m:\u001b[0m\u001b[1;33m\u001b[0m\u001b[1;33m\u001b[0m\u001b[0m\n",
      "\u001b[1;32mC:\\Anaconda3\\lib\\site-packages\\urllib3\\response.py\u001b[0m in \u001b[0;36mread_chunked\u001b[1;34m(self, amt, decode_content)\u001b[0m\n\u001b[0;32m    664\u001b[0m \u001b[1;33m\u001b[0m\u001b[0m\n\u001b[0;32m    665\u001b[0m             \u001b[1;32mwhile\u001b[0m \u001b[1;32mTrue\u001b[0m\u001b[1;33m:\u001b[0m\u001b[1;33m\u001b[0m\u001b[1;33m\u001b[0m\u001b[0m\n\u001b[1;32m--> 666\u001b[1;33m                 \u001b[0mself\u001b[0m\u001b[1;33m.\u001b[0m\u001b[0m_update_chunk_length\u001b[0m\u001b[1;33m(\u001b[0m\u001b[1;33m)\u001b[0m\u001b[1;33m\u001b[0m\u001b[1;33m\u001b[0m\u001b[0m\n\u001b[0m\u001b[0;32m    667\u001b[0m                 \u001b[1;32mif\u001b[0m \u001b[0mself\u001b[0m\u001b[1;33m.\u001b[0m\u001b[0mchunk_left\u001b[0m \u001b[1;33m==\u001b[0m \u001b[1;36m0\u001b[0m\u001b[1;33m:\u001b[0m\u001b[1;33m\u001b[0m\u001b[1;33m\u001b[0m\u001b[0m\n\u001b[0;32m    668\u001b[0m                     \u001b[1;32mbreak\u001b[0m\u001b[1;33m\u001b[0m\u001b[1;33m\u001b[0m\u001b[0m\n",
      "\u001b[1;32mC:\\Anaconda3\\lib\\site-packages\\urllib3\\response.py\u001b[0m in \u001b[0;36m_update_chunk_length\u001b[1;34m(self)\u001b[0m\n\u001b[0;32m    596\u001b[0m         \u001b[1;32mif\u001b[0m \u001b[0mself\u001b[0m\u001b[1;33m.\u001b[0m\u001b[0mchunk_left\u001b[0m \u001b[1;32mis\u001b[0m \u001b[1;32mnot\u001b[0m \u001b[1;32mNone\u001b[0m\u001b[1;33m:\u001b[0m\u001b[1;33m\u001b[0m\u001b[1;33m\u001b[0m\u001b[0m\n\u001b[0;32m    597\u001b[0m             \u001b[1;32mreturn\u001b[0m\u001b[1;33m\u001b[0m\u001b[1;33m\u001b[0m\u001b[0m\n\u001b[1;32m--> 598\u001b[1;33m         \u001b[0mline\u001b[0m \u001b[1;33m=\u001b[0m \u001b[0mself\u001b[0m\u001b[1;33m.\u001b[0m\u001b[0m_fp\u001b[0m\u001b[1;33m.\u001b[0m\u001b[0mfp\u001b[0m\u001b[1;33m.\u001b[0m\u001b[0mreadline\u001b[0m\u001b[1;33m(\u001b[0m\u001b[1;33m)\u001b[0m\u001b[1;33m\u001b[0m\u001b[1;33m\u001b[0m\u001b[0m\n\u001b[0m\u001b[0;32m    599\u001b[0m         \u001b[0mline\u001b[0m \u001b[1;33m=\u001b[0m \u001b[0mline\u001b[0m\u001b[1;33m.\u001b[0m\u001b[0msplit\u001b[0m\u001b[1;33m(\u001b[0m\u001b[1;34mb';'\u001b[0m\u001b[1;33m,\u001b[0m \u001b[1;36m1\u001b[0m\u001b[1;33m)\u001b[0m\u001b[1;33m[\u001b[0m\u001b[1;36m0\u001b[0m\u001b[1;33m]\u001b[0m\u001b[1;33m\u001b[0m\u001b[1;33m\u001b[0m\u001b[0m\n\u001b[0;32m    600\u001b[0m         \u001b[1;32mtry\u001b[0m\u001b[1;33m:\u001b[0m\u001b[1;33m\u001b[0m\u001b[1;33m\u001b[0m\u001b[0m\n",
      "\u001b[1;32mC:\\Anaconda3\\lib\\socket.py\u001b[0m in \u001b[0;36mreadinto\u001b[1;34m(self, b)\u001b[0m\n\u001b[0;32m    587\u001b[0m         \u001b[1;32mwhile\u001b[0m \u001b[1;32mTrue\u001b[0m\u001b[1;33m:\u001b[0m\u001b[1;33m\u001b[0m\u001b[1;33m\u001b[0m\u001b[0m\n\u001b[0;32m    588\u001b[0m             \u001b[1;32mtry\u001b[0m\u001b[1;33m:\u001b[0m\u001b[1;33m\u001b[0m\u001b[1;33m\u001b[0m\u001b[0m\n\u001b[1;32m--> 589\u001b[1;33m                 \u001b[1;32mreturn\u001b[0m \u001b[0mself\u001b[0m\u001b[1;33m.\u001b[0m\u001b[0m_sock\u001b[0m\u001b[1;33m.\u001b[0m\u001b[0mrecv_into\u001b[0m\u001b[1;33m(\u001b[0m\u001b[0mb\u001b[0m\u001b[1;33m)\u001b[0m\u001b[1;33m\u001b[0m\u001b[1;33m\u001b[0m\u001b[0m\n\u001b[0m\u001b[0;32m    590\u001b[0m             \u001b[1;32mexcept\u001b[0m \u001b[0mtimeout\u001b[0m\u001b[1;33m:\u001b[0m\u001b[1;33m\u001b[0m\u001b[1;33m\u001b[0m\u001b[0m\n\u001b[0;32m    591\u001b[0m                 \u001b[0mself\u001b[0m\u001b[1;33m.\u001b[0m\u001b[0m_timeout_occurred\u001b[0m \u001b[1;33m=\u001b[0m \u001b[1;32mTrue\u001b[0m\u001b[1;33m\u001b[0m\u001b[1;33m\u001b[0m\u001b[0m\n",
      "\u001b[1;32mC:\\Anaconda3\\lib\\site-packages\\urllib3\\contrib\\pyopenssl.py\u001b[0m in \u001b[0;36mrecv_into\u001b[1;34m(self, *args, **kwargs)\u001b[0m\n\u001b[0;32m    295\u001b[0m     \u001b[1;32mdef\u001b[0m \u001b[0mrecv_into\u001b[0m\u001b[1;33m(\u001b[0m\u001b[0mself\u001b[0m\u001b[1;33m,\u001b[0m \u001b[1;33m*\u001b[0m\u001b[0margs\u001b[0m\u001b[1;33m,\u001b[0m \u001b[1;33m**\u001b[0m\u001b[0mkwargs\u001b[0m\u001b[1;33m)\u001b[0m\u001b[1;33m:\u001b[0m\u001b[1;33m\u001b[0m\u001b[1;33m\u001b[0m\u001b[0m\n\u001b[0;32m    296\u001b[0m         \u001b[1;32mtry\u001b[0m\u001b[1;33m:\u001b[0m\u001b[1;33m\u001b[0m\u001b[1;33m\u001b[0m\u001b[0m\n\u001b[1;32m--> 297\u001b[1;33m             \u001b[1;32mreturn\u001b[0m \u001b[0mself\u001b[0m\u001b[1;33m.\u001b[0m\u001b[0mconnection\u001b[0m\u001b[1;33m.\u001b[0m\u001b[0mrecv_into\u001b[0m\u001b[1;33m(\u001b[0m\u001b[1;33m*\u001b[0m\u001b[0margs\u001b[0m\u001b[1;33m,\u001b[0m \u001b[1;33m**\u001b[0m\u001b[0mkwargs\u001b[0m\u001b[1;33m)\u001b[0m\u001b[1;33m\u001b[0m\u001b[1;33m\u001b[0m\u001b[0m\n\u001b[0m\u001b[0;32m    298\u001b[0m         \u001b[1;32mexcept\u001b[0m \u001b[0mOpenSSL\u001b[0m\u001b[1;33m.\u001b[0m\u001b[0mSSL\u001b[0m\u001b[1;33m.\u001b[0m\u001b[0mSysCallError\u001b[0m \u001b[1;32mas\u001b[0m \u001b[0me\u001b[0m\u001b[1;33m:\u001b[0m\u001b[1;33m\u001b[0m\u001b[1;33m\u001b[0m\u001b[0m\n\u001b[0;32m    299\u001b[0m             \u001b[1;32mif\u001b[0m \u001b[0mself\u001b[0m\u001b[1;33m.\u001b[0m\u001b[0msuppress_ragged_eofs\u001b[0m \u001b[1;32mand\u001b[0m \u001b[0me\u001b[0m\u001b[1;33m.\u001b[0m\u001b[0margs\u001b[0m \u001b[1;33m==\u001b[0m \u001b[1;33m(\u001b[0m\u001b[1;33m-\u001b[0m\u001b[1;36m1\u001b[0m\u001b[1;33m,\u001b[0m \u001b[1;34m'Unexpected EOF'\u001b[0m\u001b[1;33m)\u001b[0m\u001b[1;33m:\u001b[0m\u001b[1;33m\u001b[0m\u001b[1;33m\u001b[0m\u001b[0m\n",
      "\u001b[1;32mC:\\Anaconda3\\lib\\site-packages\\OpenSSL\\SSL.py\u001b[0m in \u001b[0;36mrecv_into\u001b[1;34m(self, buffer, nbytes, flags)\u001b[0m\n\u001b[0;32m   1819\u001b[0m             \u001b[0mresult\u001b[0m \u001b[1;33m=\u001b[0m \u001b[0m_lib\u001b[0m\u001b[1;33m.\u001b[0m\u001b[0mSSL_peek\u001b[0m\u001b[1;33m(\u001b[0m\u001b[0mself\u001b[0m\u001b[1;33m.\u001b[0m\u001b[0m_ssl\u001b[0m\u001b[1;33m,\u001b[0m \u001b[0mbuf\u001b[0m\u001b[1;33m,\u001b[0m \u001b[0mnbytes\u001b[0m\u001b[1;33m)\u001b[0m\u001b[1;33m\u001b[0m\u001b[1;33m\u001b[0m\u001b[0m\n\u001b[0;32m   1820\u001b[0m         \u001b[1;32melse\u001b[0m\u001b[1;33m:\u001b[0m\u001b[1;33m\u001b[0m\u001b[1;33m\u001b[0m\u001b[0m\n\u001b[1;32m-> 1821\u001b[1;33m             \u001b[0mresult\u001b[0m \u001b[1;33m=\u001b[0m \u001b[0m_lib\u001b[0m\u001b[1;33m.\u001b[0m\u001b[0mSSL_read\u001b[0m\u001b[1;33m(\u001b[0m\u001b[0mself\u001b[0m\u001b[1;33m.\u001b[0m\u001b[0m_ssl\u001b[0m\u001b[1;33m,\u001b[0m \u001b[0mbuf\u001b[0m\u001b[1;33m,\u001b[0m \u001b[0mnbytes\u001b[0m\u001b[1;33m)\u001b[0m\u001b[1;33m\u001b[0m\u001b[1;33m\u001b[0m\u001b[0m\n\u001b[0m\u001b[0;32m   1822\u001b[0m         \u001b[0mself\u001b[0m\u001b[1;33m.\u001b[0m\u001b[0m_raise_ssl_error\u001b[0m\u001b[1;33m(\u001b[0m\u001b[0mself\u001b[0m\u001b[1;33m.\u001b[0m\u001b[0m_ssl\u001b[0m\u001b[1;33m,\u001b[0m \u001b[0mresult\u001b[0m\u001b[1;33m)\u001b[0m\u001b[1;33m\u001b[0m\u001b[1;33m\u001b[0m\u001b[0m\n\u001b[0;32m   1823\u001b[0m \u001b[1;33m\u001b[0m\u001b[0m\n",
      "\u001b[1;31mKeyboardInterrupt\u001b[0m: "
     ]
    }
   ],
   "source": [
    "url = \"https://stream-fxpractice.oanda.com/v3/accounts/\" + account + \"/pricing/stream\"\n",
    "headers = {'Authorization':\"Bearer \" + token}\n",
    "params = {\"instruments\":Tickers_stream}\n",
    "s = requests.Session()\n",
    "req = requests.Request(\"GET\",url, headers = headers, params = params)\n",
    "pre = req.prepare()\n",
    "resp = s.send(pre, stream = True)\n",
    "print(resp.reason)\n",
    "dictf_est = {'inst':dict()}\n",
    "dicf_bkt = {'inst':dict()}\n",
    "\n",
    "for i in resp.iter_lines(1):\n",
    "    \n",
    "    j = i.decode()\n",
    "    var = json.loads(j)\n",
    "    if (var['type'] != 'HEARTBEAT'):\n",
    "        \n",
    "        #crea si no existe el instrumento\n",
    "        if var['instrument'] not in dictf_est['inst'].keys():# or dictf_est['inst'][var['instrument']]=={}:\n",
    "            \n",
    "            dictf_est['inst'][var['instrument']] ={0 :{'open':float(var['bids'][0]['price']),\n",
    "                                                  'high':float(var['bids'][0]['price']),\n",
    "                                                  'low':float(var['bids'][0]['price']),\n",
    "                                                  'close':float(var['bids'][0]['price']),\n",
    "                                                  'hora':var['time']}}\n",
    "\n",
    "        # Crea si existe el instrumento pero ya no cabe en la vela\n",
    "        elif str(pd.to_datetime(var['time']) - pd.to_datetime(dictf_est['inst'][var['instrument']][max(dictf_est['inst'][var['instrument']].keys())]['hora'])).split(' ')[2].split(':')[1] != '00':\n",
    "            \n",
    "            dictf_est['inst'][var['instrument']][1+max(dictf_est['inst'][var['instrument']].keys())] = {'open':float(var['bids'][0]['price']),\n",
    "                                                                                              'high':float(var['bids'][0]['price']),\n",
    "                                                                                              'low':float(var['bids'][0]['price']),\n",
    "                                                                                              'close':float(var['bids'][0]['price']),\n",
    "                                                                                              'hora':var['time']}\n",
    "\n",
    "        # Actualiza si aún cabe en la vela\n",
    "        else:\n",
    "            dictf_est['inst'][var['instrument']][max(dictf_est['inst'][var['instrument']].keys())]['close'] = float(var['bids'][0]['price'])\n",
    "\n",
    "            if float(var['bids'][0]['price']) > dictf_est['inst'][var['instrument']][max(dictf_est['inst'][var['instrument']].keys())]['high']:\n",
    "                dictf_est['inst'][var['instrument']][max(dictf_est['inst'][var['instrument']].keys())]['high'] = float(var['bids'][0]['price'])\n",
    "            elif float(var['bids'][0]['price']) < dictf_est['inst'][var['instrument']][max(dictf_est['inst'][var['instrument']].keys())]['low']:\n",
    "                dictf_est['inst'][var['instrument']][max(dictf_est['inst'][var['instrument']].keys())]['low'] = float(var['bids'][0]['price'])\n",
    "\n",
    "        if len(dictf_est['inst'][var['instrument']].keys()) == 11:\n",
    "            df = pd.DataFrame(columns=['open','high','low','close','inst'],index=[1],data=[[np.nan]*5])\n",
    "            for var1 in dictf_est['inst'].keys():\n",
    "                tdf = pd.DataFrame.from_dict(dictf_est['inst'][var1],orient='index')\n",
    "                tdf['inst'] = var1\n",
    "                df = pd.concat([df,tdf])\n",
    "            df = df.dropna(how='all',axis=0).reset_index().drop('index',axis=1)\n",
    "\n",
    "            try:\n",
    "                for var1 in dictf_est['inst'].keys():\n",
    "                    del dictf_est['inst'][var1][min(list(dictf_est['inst'][var1].keys()))]\n",
    "            except:\n",
    "                del dictf_est['inst'][var1]\n",
    "            \n",
    "            signals = mapper(df)\n",
    "            \n",
    "            for signal in signals:\n",
    "                placeOrder(signal[0], units = 10000*signal[1])"
   ]
  }
 ],
 "metadata": {
  "kernelspec": {
   "display_name": "Python 3",
   "language": "python",
   "name": "python3"
  },
  "language_info": {
   "codemirror_mode": {
    "name": "ipython",
    "version": 3
   },
   "file_extension": ".py",
   "mimetype": "text/x-python",
   "name": "python",
   "nbconvert_exporter": "python",
   "pygments_lexer": "ipython3",
   "version": "3.7.3"
  }
 },
 "nbformat": 4,
 "nbformat_minor": 2
}
