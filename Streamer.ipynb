{
 "cells": [
  {
   "cell_type": "markdown",
   "metadata": {},
   "source": [
    "Paquetes"
   ]
  },
  {
   "cell_type": "code",
   "execution_count": null,
   "metadata": {},
   "outputs": [],
   "source": [
    "import requests\n",
    "import configparser\n",
    "import pandas as pd\n",
    "import numpy as np\n",
    "import json\n",
    "import time as systime\n",
    "import ast"
   ]
  },
  {
   "cell_type": "markdown",
   "metadata": {},
   "source": [
    "Parametros de la cuenta (Demo)"
   ]
  },
  {
   "cell_type": "code",
   "execution_count": null,
   "metadata": {},
   "outputs": [],
   "source": [
    "token = 'feda87f1f9a79663042fcd5ee82ab17c-22f342d828f6cfd14b6004a04fdb6283'\n",
    "account = '101-011-11815575-001'\n",
    "username = 'kgua0311'"
   ]
  },
  {
   "cell_type": "markdown",
   "metadata": {},
   "source": [
    "Parametros de conexion a la API"
   ]
  },
  {
   "cell_type": "code",
   "execution_count": null,
   "metadata": {},
   "outputs": [],
   "source": [
    "header = {\"Content-Type\": \"application/json\", \"Authorization\": \"Bearer \" + token}\n",
    "pricing_url = 'https://api-fxpractice.oanda.com/v3/accounts/' + account + \"/pricing\"\n",
    "order_url = 'https://api-fxpractice.oanda.com/v3/accounts/' + account + \"/orders\"\n",
    "pricing_stream = 'https://stream-fxpractice.oanda.com/v3/accounts/' + account + \"/pricing/stream\"\n",
    "instruments_url = \"https://api-fxpractice.oanda.com/v3/accounts/\" + account + \"/instruments\""
   ]
  },
  {
   "cell_type": "markdown",
   "metadata": {},
   "source": [
    "Instrumentos"
   ]
  },
  {
   "cell_type": "code",
   "execution_count": null,
   "metadata": {},
   "outputs": [],
   "source": [
    "Tickers = ['USD_CNH', 'MBTC_USD', 'XAU_CAD', 'SGD_HKD', 'SPX500_USD', 'EUR_HUF', 'AUD_NZD', 'CAD_JPY',\n",
    "           'EU50_EUR', 'USB10Y_USD', 'ZAR_JPY', 'EUR_AUD', 'DE30_EUR', 'XCU_USD', 'XAG_GBP', 'HKD_JPY',\n",
    "           'XAG_JPY', 'XAG_USD', 'USD_NOK', 'CAD_SGD', 'USD_CZK', 'GBP_NZD', 'XAG_NZD', 'FR40_EUR', \n",
    "           'EUR_DKK', 'USD_CAD', 'AUD_JPY', 'USD_HUF', 'EUR_CZK', 'AUD_HKD', 'CHF_ZAR', 'SUGAR_USD',\n",
    "           'EUR_HKD', 'AU200_AUD', 'NZD_USD', 'AUD_USD', 'SGD_JPY', 'AUD_CAD', 'WTICO_USD', 'DE10YB_EUR',\n",
    "           'CORN_USD', 'AUD_CHF', 'CN50_USD', 'NL25_EUR', 'BTC_USD', 'TWIX_USD', 'EUR_CHF', 'USB02Y_USD',\n",
    "           'SG30_SGD', 'EUR_NOK', 'AUD_SGD', 'USD_CHF', 'TRY_JPY', 'USD_THB', 'GBP_CHF', 'USD_PLN', 'GBP_AUD',\n",
    "           'EUR_SGD', 'CHF_JPY', 'USD_INR', 'EUR_SEK', 'USD_SGD', 'XAU_NZD', 'XAU_GBP', 'USD_DKK', 'XPT_USD',\n",
    "           'XAG_CHF', 'NZD_SGD', 'XAU_XAG', 'XAG_EUR', 'UK10YB_GBP', 'SOYBN_USD', 'GBP_ZAR', 'USD_HKD',\n",
    "           'XAU_USD', 'GBP_PLN', 'USD_JPY', 'EUR_TRY', 'NAS100_USD', 'EUR_ZAR', 'XAU_HKD', 'NZD_HKD',\n",
    "           'NZD_CHF', 'XAU_CHF', 'GBP_CAD', 'USD_SAR', 'XAU_JPY', 'NZD_CAD', 'EUR_JPY', 'NZD_JPY', 'EUR_NZD',\n",
    "           'WHEAT_USD', 'XAU_AUD', 'US30_USD', 'XAU_EUR', 'UK100_GBP', 'EUR_GBP', 'USD_SEK', 'GBP_SGD',\n",
    "           'US2000_USD', 'USB05Y_USD', 'USD_ZAR', 'NATGAS_USD', 'CHF_HKD', 'XPD_USD', 'GBP_HKD', 'EUR_PLN',\n",
    "           'BCO_USD', 'XAG_AUD', 'JP225_USD', 'XAG_HKD', 'EUR_USD', 'XAG_SGD', 'XAU_SGD', 'IN50_USD',\n",
    "           'USD_TRY', 'GBP_JPY', 'EUR_CAD', 'HK33_HKD', 'XAG_CAD', 'USD_MXN', 'GBP_USD', 'SGD_CHF', \n",
    "           'CAD_CHF', 'CAD_HKD', 'USB30Y_USD']\n",
    "\n",
    "# Control para determinar si hacer stream de un solo activo o varios\n",
    "multiple = True\n",
    "\n",
    "if multiple:\n",
    "    Tickers_stream = ','.join(Tickers)\n",
    "else:\n",
    "    Tickers_stream = 'USD_JPY' # Tomar uno en especifico"
   ]
  },
  {
   "cell_type": "code",
   "execution_count": null,
   "metadata": {},
   "outputs": [],
   "source": [
    "def placeOrder(epic_id, order_type = None, units = None, price = None):\n",
    "    \"\"\"\n",
    "    Function to place orders in OANDA.\n",
    "    :param epic_id: Ticker of the instrument\n",
    "    :param order_type: one of the following as strings\n",
    "                - MARKET\n",
    "                - LIMIT\n",
    "    :param units: integer of the number of units to buy, negative if selling\n",
    "    :param price: target price, only for LIMIT, STOP_LOSS, TAKE_PROFIT orders\n",
    "    \"\"\"\n",
    "\n",
    "    if order_type is None:\n",
    "        print('No type order given. Please specify the order type.')\n",
    "        return None\n",
    "\n",
    "    if order_type == \"MARKET\":\n",
    "        params = {\"order\": {\"timeInForce\": \"GTC\",\n",
    "                            \"instrument\": epic_id,\n",
    "                            \"units\": str(units),\n",
    "                            \"type\": order_type,\n",
    "                            \"positionFill\": \"DEFAULT\"}}\n",
    "\n",
    "    if order_type == \"LIMIT\":\n",
    "        params = {\"order\": {\"price\": str(price),\n",
    "                            \"timeInForce\": \"GTC\",\n",
    "                            \"instrument\": epic_id,\n",
    "                            \"units\": str(units),\n",
    "                            \"type\": order_type,\n",
    "                            \"positionFill\": \"DEFAULT\"}}\n",
    "\n",
    "    params = json.dumps(params)\n",
    "    session = requests.Session()\n",
    "    req = requests.Request(\"POST\", order_url, headers = header, data = params)\n",
    "    pre = req.prepare()\n",
    "    resp = session.send(pre)\n",
    "    session.close()\n",
    "    print(resp.reason)\n",
    "    ins = resp.json()\n",
    "    print(ins)"
   ]
  },
  {
   "cell_type": "code",
   "execution_count": null,
   "metadata": {},
   "outputs": [],
   "source": [
    "url = \"https://stream-fxpractice.oanda.com/v3/accounts/\" + account + \"/pricing/stream\"\n",
    "headers = {'Authorization':\"Bearer \" + token}\n",
    "params = {\"instruments\":Tickers_stream}\n",
    "s = requests.Session()\n",
    "req = requests.Request(\"GET\",url, headers = headers, params = params)\n",
    "pre = req.prepare()\n",
    "resp = s.send(pre, stream = True)\n",
    "print(resp.reason)\n",
    "for i in resp.iter_lines(1):\n",
    "    j = i.decode()\n",
    "    k = json.loads(j)\n",
    "    if (k['type'] != 'HEARTBEAT'):\n",
    "        print(k['instrument'])\n",
    "        print(str(k['bids']) + ' / ' + str(k['asks']))\n",
    "        print('\\n')\n",
    "    else:\n",
    "        print(j)"
   ]
  }
 ],
 "metadata": {
  "kernelspec": {
   "display_name": "Python 3",
   "language": "python",
   "name": "python3"
  },
  "language_info": {
   "codemirror_mode": {
    "name": "ipython",
    "version": 3
   },
   "file_extension": ".py",
   "mimetype": "text/x-python",
   "name": "python",
   "nbconvert_exporter": "python",
   "pygments_lexer": "ipython3",
   "version": "3.7.3"
  }
 },
 "nbformat": 4,
 "nbformat_minor": 2
}
