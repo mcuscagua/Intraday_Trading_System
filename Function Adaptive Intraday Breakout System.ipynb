{
 "cells": [
  {
   "cell_type": "code",
   "execution_count": 1,
   "metadata": {
    "colab": {},
    "colab_type": "code",
    "id": "fuRzICHupSTK"
   },
   "outputs": [],
   "source": [
    "import json as js # for reading json files\n",
    "import pandas as pd # for dataframe structures usage\n",
    "import numpy as np # for mathematical calculations over dataframes"
   ]
  },
  {
   "cell_type": "markdown",
   "metadata": {},
   "source": [
    "### Here I'm reading the json file"
   ]
  },
  {
   "cell_type": "code",
   "execution_count": 2,
   "metadata": {
    "colab": {},
    "colab_type": "code",
    "id": "TtaN8miDpe-k"
   },
   "outputs": [],
   "source": [
    "a = open('SPY_15min_2018.json')\n",
    "a = a.read()\n",
    "a = js.loads(a)"
   ]
  },
  {
   "cell_type": "markdown",
   "metadata": {},
   "source": [
    "### Here I'm processing the json file to extract the information to build a dataframe"
   ]
  },
  {
   "cell_type": "code",
   "execution_count": 3,
   "metadata": {
    "colab": {},
    "colab_type": "code",
    "id": "GwbCT76tr4-r"
   },
   "outputs": [],
   "source": [
    "# Extract the info from json file\n",
    "SPX_open_bid = [a[x][\"openPrice\"][\"bid\"] for x in range(len(a))]\n",
    "SPX_open_ask = [a[x][\"openPrice\"][\"ask\"] for x in range(len(a))]\n",
    "SPX_high_bid = [a[x][\"highPrice\"][\"bid\"] for x in range(len(a))]\n",
    "SPX_high_ask = [a[x][\"highPrice\"][\"ask\"] for x in range(len(a))]\n",
    "SPX_low_bid = [a[x][\"lowPrice\"][\"bid\"] for x in range(len(a))]\n",
    "SPX_low_ask = [a[x][\"lowPrice\"][\"ask\"] for x in range(len(a))]\n",
    "SPX_close_bid = [a[x][\"closePrice\"][\"bid\"] for x in range(len(a))]\n",
    "SPX_close_ask = [a[x][\"closePrice\"][\"ask\"] for x in range(len(a))]\n",
    "SPX_time = [a[x][\"snapshotTime\"] for x in range(len(a))]"
   ]
  },
  {
   "cell_type": "markdown",
   "metadata": {},
   "source": [
    "### Here I pick the BID prices for the calculations (It is the same with the ASK prices)"
   ]
  },
  {
   "cell_type": "code",
   "execution_count": 4,
   "metadata": {
    "colab": {},
    "colab_type": "code",
    "id": "sPbm0FPnsfIF"
   },
   "outputs": [],
   "source": [
    "# Build the SPX_BID dataframe\n",
    "SPX_BID = pd.DataFrame(np.transpose(np.matrix([SPX_open_bid,SPX_high_bid,SPX_low_bid,SPX_close_bid])))\n",
    "SPX_BID.columns = ['Open', 'High', 'Low', 'Close']\n",
    "SPX_BID.index = SPX_time\n",
    "SPX_BID.index = pd.to_datetime(SPX_BID.index)"
   ]
  },
  {
   "cell_type": "markdown",
   "metadata": {},
   "source": [
    "### For the example, I chose the first 10 candels as the \"last\" known candels"
   ]
  },
  {
   "cell_type": "code",
   "execution_count": 5,
   "metadata": {},
   "outputs": [
    {
     "data": {
      "text/html": [
       "<div>\n",
       "<style scoped>\n",
       "    .dataframe tbody tr th:only-of-type {\n",
       "        vertical-align: middle;\n",
       "    }\n",
       "\n",
       "    .dataframe tbody tr th {\n",
       "        vertical-align: top;\n",
       "    }\n",
       "\n",
       "    .dataframe thead th {\n",
       "        text-align: right;\n",
       "    }\n",
       "</style>\n",
       "<table border=\"1\" class=\"dataframe\">\n",
       "  <thead>\n",
       "    <tr style=\"text-align: right;\">\n",
       "      <th></th>\n",
       "      <th>Open</th>\n",
       "      <th>High</th>\n",
       "      <th>Low</th>\n",
       "      <th>Close</th>\n",
       "    </tr>\n",
       "  </thead>\n",
       "  <tbody>\n",
       "    <tr>\n",
       "      <th>2018-12-02 23:00:00</th>\n",
       "      <td>2795.47</td>\n",
       "      <td>2806.6</td>\n",
       "      <td>2794.85</td>\n",
       "      <td>2806.1</td>\n",
       "    </tr>\n",
       "    <tr>\n",
       "      <th>2018-12-02 23:15:00</th>\n",
       "      <td>2806.35</td>\n",
       "      <td>2808.6</td>\n",
       "      <td>2804.35</td>\n",
       "      <td>2804.6</td>\n",
       "    </tr>\n",
       "    <tr>\n",
       "      <th>2018-12-02 23:30:00</th>\n",
       "      <td>2804.35</td>\n",
       "      <td>2804.6</td>\n",
       "      <td>2801.6</td>\n",
       "      <td>2802.22</td>\n",
       "    </tr>\n",
       "    <tr>\n",
       "      <th>2018-12-02 23:45:00</th>\n",
       "      <td>2802.1</td>\n",
       "      <td>2803.35</td>\n",
       "      <td>2801.1</td>\n",
       "      <td>2802.1</td>\n",
       "    </tr>\n",
       "    <tr>\n",
       "      <th>2018-12-03 00:00:00</th>\n",
       "      <td>2802.35</td>\n",
       "      <td>2803.1</td>\n",
       "      <td>2799.35</td>\n",
       "      <td>2799.6</td>\n",
       "    </tr>\n",
       "    <tr>\n",
       "      <th>2018-12-03 00:15:00</th>\n",
       "      <td>2799.85</td>\n",
       "      <td>2800.85</td>\n",
       "      <td>2798.85</td>\n",
       "      <td>2798.85</td>\n",
       "    </tr>\n",
       "    <tr>\n",
       "      <th>2018-12-03 00:30:00</th>\n",
       "      <td>2799.1</td>\n",
       "      <td>2800.6</td>\n",
       "      <td>2798.35</td>\n",
       "      <td>2798.35</td>\n",
       "    </tr>\n",
       "    <tr>\n",
       "      <th>2018-12-03 00:45:00</th>\n",
       "      <td>2798.47</td>\n",
       "      <td>2799.47</td>\n",
       "      <td>2797.35</td>\n",
       "      <td>2798.1</td>\n",
       "    </tr>\n",
       "    <tr>\n",
       "      <th>2018-12-03 01:00:00</th>\n",
       "      <td>2797.85</td>\n",
       "      <td>2802.1</td>\n",
       "      <td>2797.85</td>\n",
       "      <td>2801.6</td>\n",
       "    </tr>\n",
       "    <tr>\n",
       "      <th>2018-12-03 01:15:00</th>\n",
       "      <td>2801.47</td>\n",
       "      <td>2802.1</td>\n",
       "      <td>2800.1</td>\n",
       "      <td>2800.6</td>\n",
       "    </tr>\n",
       "  </tbody>\n",
       "</table>\n",
       "</div>"
      ],
      "text/plain": [
       "                        Open     High      Low    Close\n",
       "2018-12-02 23:00:00  2795.47   2806.6  2794.85   2806.1\n",
       "2018-12-02 23:15:00  2806.35   2808.6  2804.35   2804.6\n",
       "2018-12-02 23:30:00  2804.35   2804.6   2801.6  2802.22\n",
       "2018-12-02 23:45:00   2802.1  2803.35   2801.1   2802.1\n",
       "2018-12-03 00:00:00  2802.35   2803.1  2799.35   2799.6\n",
       "2018-12-03 00:15:00  2799.85  2800.85  2798.85  2798.85\n",
       "2018-12-03 00:30:00   2799.1   2800.6  2798.35  2798.35\n",
       "2018-12-03 00:45:00  2798.47  2799.47  2797.35   2798.1\n",
       "2018-12-03 01:00:00  2797.85   2802.1  2797.85   2801.6\n",
       "2018-12-03 01:15:00  2801.47   2802.1   2800.1   2800.6"
      ]
     },
     "execution_count": 5,
     "metadata": {},
     "output_type": "execute_result"
    }
   ],
   "source": [
    "Hist_Data = SPX_BID.iloc[0:10,:]\n",
    "Hist_Data"
   ]
  },
  {
   "cell_type": "markdown",
   "metadata": {},
   "source": [
    "### Here I define the function"
   ]
  },
  {
   "cell_type": "code",
   "execution_count": 6,
   "metadata": {},
   "outputs": [],
   "source": [
    "def get_AIBD_signal(Hist_Data, power = 0.75, Threshold_ranges = [-0.2, 0.5]):\n",
    "    time_window = Hist_Data.shape[0] # It identifies the time window for past data you're using\n",
    "    n = time_window**power # this is one of the parameters of the algoritm\n",
    "    \n",
    "    High_shift = Hist_Data['High'].shift(1) # For the current candel, I consider the last 9 candels for calculations in the High\n",
    "    Low_shift = Hist_Data['Low'].shift(1) # Same for the Low\n",
    "    TR1 = High_shift-Low_shift # Calculate the first value of reference as an array\n",
    "    TR2 = np.abs(High_shift - Hist_Data['Close']) # Calculate the second value of reference as an array\n",
    "    TR3 = np.abs(Low_shift-Hist_Data['Close']) # Calculate the third value of reference as an array\n",
    "    TR = pd.concat([TR1,TR2,TR3], axis = 1) # join them into a dataframe\n",
    "    TR = [max(TR.iloc[i,:]) for i in range(TR.shape[0])] # For each row, take the maximum value\n",
    "    Avr_TR = np.nanmean(TR) # calculate the mean of TR\n",
    "    High_Range = Hist_Data['High'] - Hist_Data['Low'].min() # Get the difference between the current High and the past min Low\n",
    "    Low_Range = Hist_Data['Low'] - Hist_Data['High'].max() # Get the difference between the current Low and the past max High\n",
    "    NHR = High_Range/n/Avr_TR\n",
    "    NHR = NHR.values[-1] # Extracts the current value of the indicator for the High\n",
    "    NLR = Low_Range/n/Avr_TR\n",
    "    NLR = NLR.values[-1] # Extracts the current value of the indicator for the Low\n",
    "    \n",
    "    # Defines the value of the signal according to the trading rule\n",
    "    if (NHR > Threshold_ranges[1] and NLR < Threshold_ranges[0]):\n",
    "        signal = 1\n",
    "    elif (NLR > Threshold_ranges[0] and NHR < Threshold_ranges[1]):\n",
    "        signal = -1\n",
    "    else:\n",
    "        signal = 0\n",
    "\n",
    "    return(signal)\n",
    "    "
   ]
  },
  {
   "cell_type": "code",
   "execution_count": 8,
   "metadata": {},
   "outputs": [
    {
     "data": {
      "text/plain": [
       "0"
      ]
     },
     "execution_count": 8,
     "metadata": {},
     "output_type": "execute_result"
    }
   ],
   "source": [
    "get_AIBD_signal(Hist_Data)"
   ]
  }
 ],
 "metadata": {
  "colab": {
   "collapsed_sections": [],
   "name": "Intraday Strategy",
   "provenance": [],
   "version": "0.3.2"
  },
  "kernelspec": {
   "display_name": "Python 3",
   "language": "python",
   "name": "python3"
  },
  "language_info": {
   "codemirror_mode": {
    "name": "ipython",
    "version": 3
   },
   "file_extension": ".py",
   "mimetype": "text/x-python",
   "name": "python",
   "nbconvert_exporter": "python",
   "pygments_lexer": "ipython3",
   "version": "3.7.3"
  }
 },
 "nbformat": 4,
 "nbformat_minor": 1
}
